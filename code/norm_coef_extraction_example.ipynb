{
 "cells": [
  {
   "cell_type": "markdown",
   "metadata": {
    "id": "view-in-github",
    "colab_type": "text"
   },
   "source": [
    "<a href=\"https://colab.research.google.com/github/Alvorecer721/waymo-motion-prediction-challenge-2022-multipath-plus-plus/blob/boris%2Fnormalisation/code/norm_coef_extraction_example.ipynb\" target=\"_parent\"><img src=\"https://colab.research.google.com/assets/colab-badge.svg\" alt=\"Open In Colab\"/></a>"
   ]
  },
  {
   "cell_type": "code",
   "source": [
    "from google.colab import drive\n",
    "\n",
    "drive.mount('/content/gdrive')"
   ],
   "metadata": {
    "colab": {
     "base_uri": "https://localhost:8080/"
    },
    "id": "afu1A0aEl6iG",
    "outputId": "41f945a8-3261-43a9-a4aa-bcde1fd83cf9"
   },
   "execution_count": 1,
   "outputs": [
    {
     "output_type": "stream",
     "name": "stdout",
     "text": [
      "Mounted at /content/gdrive\n"
     ]
    }
   ]
  },
  {
   "cell_type": "code",
   "source": [
    "!git clone https://github.com/Alvorecer721/waymo-motion-prediction-challenge-2022-multipath-plus-plus multipathpp\n",
    "!cd multipathpp && git checkout boris/normalisation\n",
    "\n",
    "import sys\n",
    "sys.path.insert(0, '/content/multipathpp/code')"
   ],
   "metadata": {
    "colab": {
     "base_uri": "https://localhost:8080/"
    },
    "id": "V-6SUSL0l_3O",
    "outputId": "83aef50f-2253-4010-c9e6-6c1adbfa5e3d"
   },
   "execution_count": 2,
   "outputs": [
    {
     "output_type": "stream",
     "name": "stdout",
     "text": [
      "Cloning into 'multipathpp'...\n",
      "remote: Enumerating objects: 158, done.\u001B[K\n",
      "remote: Counting objects: 100% (138/138), done.\u001B[K\n",
      "remote: Compressing objects: 100% (82/82), done.\u001B[K\n",
      "remote: Total 158 (delta 71), reused 109 (delta 55), pack-reused 20\u001B[K\n",
      "Receiving objects: 100% (158/158), 1.03 MiB | 14.51 MiB/s, done.\n",
      "Resolving deltas: 100% (73/73), done.\n",
      "Branch 'boris/normalisation' set up to track remote branch 'boris/normalisation' from 'origin'.\n",
      "Switched to a new branch 'boris/normalisation'\n"
     ]
    }
   ]
  },
  {
   "cell_type": "code",
   "source": [
    "#!python3 multipathpp/code/prerender/prerender.py \\\n",
    "#    --data-path gdrive/MyDrive/multipathpp/original \\\n",
    "#    --output-path gdrive/MyDrive/multipathpp/prerendered \\\n",
    "#    --n-jobs 24 \\\n",
    "#    --n-shards 1 \\\n",
    "#    --shard-id 0 \\\n",
    "#    --config multipathpp/code/configs/prerender.yaml"
   ],
   "metadata": {
    "id": "q8FMxBO6Wqwj"
   },
   "execution_count": 4,
   "outputs": []
  },
  {
   "cell_type": "code",
   "source": [
    "!ls gdrive/MyDrive/multipathpp/original"
   ],
   "metadata": {
    "colab": {
     "base_uri": "https://localhost:8080/"
    },
    "id": "G4KeA50Sm6hf",
    "outputId": "d47c5793-1238-40e1-e1a5-837c174b5cdf"
   },
   "execution_count": 6,
   "outputs": [
    {
     "output_type": "stream",
     "name": "stdout",
     "text": [
      "uncompressed-tf_example-training-training_tfexample.tfrecord-00000-of-01000\n"
     ]
    }
   ]
  },
  {
   "cell_type": "code",
   "source": [
    "!ls gdrive/MyDrive/multipathpp/prerendered | wc -l"
   ],
   "metadata": {
    "colab": {
     "base_uri": "https://localhost:8080/"
    },
    "id": "gqIPWFJsRYuH",
    "outputId": "5367c3b2-27fc-4398-ccd6-92e0abf208eb"
   },
   "execution_count": 7,
   "outputs": [
    {
     "output_type": "stream",
     "name": "stdout",
     "text": [
      "2077\n"
     ]
    }
   ]
  },
  {
   "cell_type": "code",
   "source": [
    "# create normalization directory in advance\n",
    "# should run in about 3 mins\n",
    "!python3 multipathpp/code/normalization.py \\\n",
    "    --data-path gdrive/MyDrive/multipathpp/prerendered \\\n",
    "    --output-path gdrive/MyDrive/multipathpp/normalization/normalization_coefs.npy \\\n",
    "    --config multipathpp/code/configs/normalization.yaml"
   ],
   "metadata": {
    "colab": {
     "base_uri": "https://localhost:8080/"
    },
    "id": "R6NOZzswUyoz",
    "outputId": "ac3b9ea9-2658-424f-eab3-ece9fb02431e"
   },
   "execution_count": 26,
   "outputs": [
    {
     "output_type": "stream",
     "name": "stdout",
     "text": [
      "100% 2077/2077 [03:02<00:00, 11.35it/s]\n"
     ]
    }
   ]
  },
  {
   "cell_type": "code",
   "source": [
    "import numpy as np\n",
    "\n",
    "values = np.load('gdrive/MyDrive/multipathpp/normalization/normalization_coefs.npy', allow_pickle=True)[()]\n",
    "values"
   ],
   "metadata": {
    "colab": {
     "base_uri": "https://localhost:8080/"
    },
    "id": "MIAVEYAHLYSj",
    "outputId": "1b0bb3c4-5330-4220-93f1-13107671f120"
   },
   "execution_count": 27,
   "outputs": [
    {
     "output_type": "execute_result",
     "data": {
      "text/plain": [
       "{'mean': {'target/history/lstm_data': array([-3.10491469e+00,  7.98827550e-03, -3.57502243e-03,  6.34625526e+00,\n",
       "          1.97270340e+00,  4.36970090e+00,  0.00000000e+00,  0.00000000e+00,\n",
       "          0.00000000e+00,  0.00000000e+00,  0.00000000e+00,  0.00000000e+00,\n",
       "          0.00000000e+00]),\n",
       "  'target/history/lstm_data_diff': array([ 6.32407858e-01, -2.38183919e-03,  3.27658026e-04,  2.52452227e-03,\n",
       "          0.00000000e+00,  0.00000000e+00,  0.00000000e+00,  0.00000000e+00,\n",
       "          0.00000000e+00,  0.00000000e+00,  0.00000000e+00]),\n",
       "  'target/history/mcg_input_data': array([-3.10491469e+00,  7.98827550e-03, -3.57502243e-03,  6.34625526e+00,\n",
       "          1.97270340e+00,  4.36970090e+00,  0.00000000e+00,  0.00000000e+00,\n",
       "          0.00000000e+00,  0.00000000e+00,  0.00000000e+00,  0.00000000e+00,\n",
       "          0.00000000e+00,  0.00000000e+00,  0.00000000e+00,  0.00000000e+00,\n",
       "          0.00000000e+00,  0.00000000e+00,  0.00000000e+00,  0.00000000e+00,\n",
       "          0.00000000e+00,  0.00000000e+00,  0.00000000e+00,  0.00000000e+00]),\n",
       "  'other/history/lstm_data': array([1.02335456e+01, 2.17777053e+00, 5.48043050e-03, 2.52649761e+00,\n",
       "         1.89987872e+00, 4.28357237e+00, 0.00000000e+00, 0.00000000e+00,\n",
       "         0.00000000e+00, 0.00000000e+00, 0.00000000e+00, 0.00000000e+00,\n",
       "         0.00000000e+00]),\n",
       "  'other/history/lstm_data_diff': array([ 0.05038437, -0.00226103,  0.00016236,  0.00517052,  0.        ,\n",
       "          0.        ,  0.        ,  0.        ,  0.        ,  0.        ,\n",
       "          0.        ]),\n",
       "  'other/history/mcg_input_data': array([1.02335456e+01, 2.17777053e+00, 5.48043050e-03, 2.52649761e+00,\n",
       "         1.89987872e+00, 4.28357237e+00, 0.00000000e+00, 0.00000000e+00,\n",
       "         0.00000000e+00, 0.00000000e+00, 0.00000000e+00, 0.00000000e+00,\n",
       "         0.00000000e+00, 0.00000000e+00, 0.00000000e+00, 0.00000000e+00,\n",
       "         0.00000000e+00, 0.00000000e+00, 0.00000000e+00, 0.00000000e+00,\n",
       "         0.00000000e+00, 0.00000000e+00, 0.00000000e+00, 0.00000000e+00]),\n",
       "  'road_network_embeddings': array([ 7.85789139e+01,  1.35777140e-01,  5.01198831e-02,  5.93850007e-03,\n",
       "         -2.02440970e-03,  4.03367875e+00,  1.92191922e+00,  0.00000000e+00,\n",
       "          0.00000000e+00,  0.00000000e+00,  0.00000000e+00,  0.00000000e+00,\n",
       "          0.00000000e+00,  0.00000000e+00,  0.00000000e+00,  0.00000000e+00,\n",
       "          0.00000000e+00,  0.00000000e+00,  0.00000000e+00,  0.00000000e+00,\n",
       "          0.00000000e+00,  0.00000000e+00,  0.00000000e+00,  0.00000000e+00,\n",
       "          0.00000000e+00,  0.00000000e+00,  0.00000000e+00]),\n",
       "  'target/future/xy': array([23.43557528,  0.67423037])},\n",
       " 'std': {'target/history/lstm_data': array([3.9215464 , 0.11482045, 0.10177673, 5.83347955, 0.45938306,\n",
       "         1.49476479, 1.        , 1.        , 1.        , 1.        ,\n",
       "         1.        , 1.        , 1.        ]),\n",
       "  'target/history/lstm_data_diff': array([0.58546122, 0.03331676, 0.04866637, 0.69617913, 1.        ,\n",
       "         1.        , 1.        , 1.        , 1.        , 1.        ,\n",
       "         1.        ]),\n",
       "  'target/history/mcg_input_data': array([3.9215464 , 0.11482045, 0.10177673, 5.83347955, 0.45938306,\n",
       "         1.49476479, 1.        , 1.        , 1.        , 1.        ,\n",
       "         1.        , 1.        , 1.        , 1.        , 1.        ,\n",
       "         1.        , 1.        , 1.        , 1.        , 1.        ,\n",
       "         1.        , 1.        , 1.        , 1.        ]),\n",
       "  'other/history/lstm_data': array([44.85915898, 34.60904054,  1.80334371,  4.92193539,  0.71522433,\n",
       "          1.64233131,  1.        ,  1.        ,  1.        ,  1.        ,\n",
       "          1.        ,  1.        ,  1.        ]),\n",
       "  'other/history/lstm_data_diff': array([0.48740956, 0.25739243, 0.11767423, 0.55863179, 1.        ,\n",
       "         1.        , 1.        , 1.        , 1.        , 1.        ,\n",
       "         1.        ]),\n",
       "  'other/history/mcg_input_data': array([44.85915898, 34.60904054,  1.80334371,  4.92193539,  0.71522433,\n",
       "          1.64233131,  1.        ,  1.        ,  1.        ,  1.        ,\n",
       "          1.        ,  1.        ,  1.        ,  1.        ,  1.        ,\n",
       "          1.        ,  1.        ,  1.        ,  1.        ,  1.        ,\n",
       "          1.        ,  1.        ,  1.        ,  1.        ]),\n",
       "  'road_network_embeddings': array([37.29380195,  0.76012388,  0.63345418,  0.74214532,  0.6689499 ,\n",
       "          1.14473708,  2.15592204,  1.        ,  1.        ,  1.        ,\n",
       "          1.        ,  1.        ,  1.        ,  1.        ,  1.        ,\n",
       "          1.        ,  1.        ,  1.        ,  1.        ,  1.        ,\n",
       "          1.        ,  1.        ,  1.        ,  1.        ,  1.        ,\n",
       "          1.        ,  1.        ]),\n",
       "  'target/future/xy': array([27.77081338,  9.08982131])}}"
      ]
     },
     "metadata": {},
     "execution_count": 27
    }
   ]
  },
  {
   "cell_type": "code",
   "source": [
    "# takes ~5 mins, needed for training\n",
    "!pip install torch-scatter -f https://pytorch-geometric.com/whl/torch-1.8.0+cu101.html"
   ],
   "metadata": {
    "id": "p8cV1wi7SKNF"
   },
   "execution_count": null,
   "outputs": []
  },
  {
   "cell_type": "code",
   "source": [
    "!python3 multipathpp/code/train.py multipathpp/code/configs/final_RoP_Cov_Single.yaml \\\n",
    "         gdrive/MyDrive/multipathpp/normalization/normalization_coefs.npy"
   ],
   "metadata": {
    "colab": {
     "base_uri": "https://localhost:8080/"
    },
    "id": "QEXbspV13XGN",
    "outputId": "20641088-2aa0-49ad-c572-82f1dfccb76b"
   },
   "execution_count": 28,
   "outputs": [
    {
     "output_type": "stream",
     "name": "stdout",
     "text": [
      "fatal: not a git repository (or any of the parent directories): .git\n",
      "Traceback (most recent call last):\n",
      "  File \"/content/multipathpp/code/train.py\", line 48, in <module>\n",
      "    last_checkpoint = get_last_file(models_path)\n",
      "NameError: name 'models_path' is not defined\n"
     ]
    }
   ]
  }
 ],
 "metadata": {
  "kernelspec": {
   "name": "python3",
   "display_name": "Python 3"
  },
  "language_info": {
   "name": "python"
  },
  "colab": {
   "provenance": [],
   "include_colab_link": true
  },
  "gpuClass": "standard"
 },
 "nbformat": 4,
 "nbformat_minor": 0
}
